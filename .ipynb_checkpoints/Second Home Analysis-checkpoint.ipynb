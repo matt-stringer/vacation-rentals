{
 "cells": [
  {
   "cell_type": "markdown",
   "metadata": {},
   "source": [
    "This is the second home analysis."
   ]
  },
  {
   "cell_type": "code",
   "execution_count": 1,
   "metadata": {
    "collapsed": false
   },
   "outputs": [],
   "source": [
    "%matplotlib inline\n",
    "\n",
    "import matplotlib.pyplot as plt\n",
    "import numpy as np # linear algebra\n",
    "import pandas as pd # data processing, CSV file I/O (e.g. pd.read_csv)\n",
    "\n",
    "from matplotlib.patches import Circle, Rectangle, Arc\n",
    "from geopy.geocoders import Nominatim\n",
    "#import seaborn as sns\n",
    "from pyproj import Proj, transform\n",
    "\n",
    "from fuzzywuzzy import fuzz\n",
    "from fuzzywuzzy import process\n",
    "\n"
   ]
  },
  {
   "cell_type": "code",
   "execution_count": 79,
   "metadata": {
    "collapsed": false
   },
   "outputs": [],
   "source": [
    "df = pd.read_csv('data/City_Zhvi_AllHomes.csv')\n",
    "\n",
    "list(df)\n",
    "cols_2_use = [  'RegionID',\n",
    "                 'RegionName',\n",
    "                 'State',\n",
    "                 'Metro',\n",
    "                 'CountyName',\n",
    "                 'SizeRank',\n",
    "                 '1996-04',\n",
    "                 '2001-03',\n",
    "                 '2006-03',\n",
    "                 '2011-03',\n",
    "                 '2016-03']\n",
    "\n",
    "df = df[cols_2_use]\n",
    "\n"
   ]
  },
  {
   "cell_type": "code",
   "execution_count": 76,
   "metadata": {
    "collapsed": false
   },
   "outputs": [],
   "source": [
    "df_price_2_rent = pd.read_csv('data/City_PriceToRentRatio_AllHomes.csv')\n",
    "\n",
    "cols_2_use = [  'RegionID',\n",
    "                'RegionName',\n",
    "                'State',\n",
    "                '2011-03',\n",
    "                '2016-03']\n",
    "\n",
    "df_price_2_rent = df_price_2_rent[cols_2_use]\n"
   ]
  },
  {
   "cell_type": "code",
   "execution_count": 80,
   "metadata": {
    "collapsed": false
   },
   "outputs": [
    {
     "data": {
      "text/plain": [
       "11383"
      ]
     },
     "execution_count": 80,
     "metadata": {},
     "output_type": "execute_result"
    }
   ],
   "source": [
    "df['CountyState'] = df['CountyName'] + \" County, \" + df['State']\n",
    "\n",
    "df_price_2_rent['CityState'] = df_price_2_rent['RegionName'] + ', ' + df_price_2_rent['State']\n",
    "\n",
    "df['CityState'] = df['RegionName'] + ', ' + df['State']\n",
    "new_df = pd.merge(df, df_price_2_rent, on='CityState', how='inner')\n",
    "len(new_df)"
   ]
  },
  {
   "cell_type": "markdown",
   "metadata": {},
   "source": [
    "### Existing climate for vacation rentals:\n",
    "Area with vacation rentals? Analyze only cities that are in a county where more than 20% of the households are for recreational use."
   ]
  },
  {
   "cell_type": "code",
   "execution_count": 110,
   "metadata": {
    "collapsed": false
   },
   "outputs": [
    {
     "data": {
      "text/plain": [
       "4088"
      ]
     },
     "execution_count": 110,
     "metadata": {},
     "output_type": "execute_result"
    }
   ],
   "source": [
    "xl = pd.ExcelFile('data/seasonal_rates.csv')\n",
    "df_seasonal = xl.parse('seasonal_rates.csv')\n",
    "df_seasonal = df_seasonal[df_seasonal['seasonal use'] > 20.0]\n",
    "\n",
    "df_seasonal['CountyState'] = df_seasonal['Geographic area'] + ', ' + df_seasonal['State Abbr']\n",
    "new_df = pd.merge(new_df, df_seasonal, on='CountyState', how='inner')\n",
    "\n",
    "\n",
    "len(seasonal_df)"
   ]
  },
  {
   "cell_type": "code",
   "execution_count": 83,
   "metadata": {
    "collapsed": false
   },
   "outputs": [],
   "source": [
    "# add geo location\n",
    "df_geo = pd.read_csv('data/us_cities.csv')\n",
    "\n",
    "# combine the city and state for merging\n",
    "df_geo['CityState'] = df_geo['AccentCity'] + ', ' + df_geo['Region']\n",
    "df_geo = pd.merge(seasonal_df, df_geo, on='CityState', how='inner')"
   ]
  },
  {
   "cell_type": "code",
   "execution_count": 84,
   "metadata": {
    "collapsed": false
   },
   "outputs": [
    {
     "data": {
      "text/plain": [
       "3326"
      ]
     },
     "execution_count": 84,
     "metadata": {},
     "output_type": "execute_result"
    },
    {
     "data": {
      "image/png": "[encoded data removed]",
      "text/plain": [
       "<matplotlib.figure.Figure at 0x1156e54e0>"
      ]
     },
     "metadata": {},
     "output_type": "display_data"
    }
   ],
   "source": [
    "plt.scatter(df_geo['Longitude'], df_geo['Latitude'], marker='o')\n",
    "len(df_geo)"
   ]
  },
  {
   "cell_type": "markdown",
   "metadata": {},
   "source": [
    "### Accessibility: \n",
    "Is it near a major airport? Find cities that are within at least 20 miles of major commercial airport."
   ]
  },
  {
   "cell_type": "code",
   "execution_count": 85,
   "metadata": {
    "collapsed": false
   },
   "outputs": [],
   "source": [
    "# Load Airport Data\n",
    "df_airports = pd.read_csv('data/us_airports.csv')\n",
    "\n",
    "# remove non major airports\n",
    "major_airports_codes = [\"GA\",\"LAX\",\"ORD\",\"DFW\",\"JFK\",\"DEN\",\"SFO\",\"CLT\",\"LAS\",\"PHX\",\"IAH\",\"MIA\",\"SEA\",\"EWR\",\"MCO\",\"MSP\",\"DTW\",\"BOS\",\"PHL\",\"LGA\",\"FLL\",\"BWI\",\"IAD\",\"MDW\",\"SLC\",\"DCA\",\"HNL\",\"SAN\",\"TPA\",\"PDX\",\"STL\",\"HOU\",\"BNA\",\"AUS\",\"OAK\",\"MCI\",\"MSY\",\"RDU\",\"SJC\",\"SNA\",\"DAL\",\"SMF\",\"SJU\",\"SAT\",\"RSW\",\"PIT\",\"CLE\",\"IND\",\"MKE\",\"CMH\",\"OGG\",\"PBI\",\"BDL\",\"CVG\",\"JAX\",\"ANC\",\"BUF\",\"ABQ\",\"ONT\",\"OMA\",\"BUR\"]\n",
    "\n",
    "df_airports = df_airports[df_airports['code'].isin(major_airports_codes)]"
   ]
  },
  {
   "cell_type": "code",
   "execution_count": 86,
   "metadata": {
    "collapsed": false
   },
   "outputs": [],
   "source": [
    "#converted units\n",
    "cap = Proj('+datum=NAD83 +lat_0=32.10 +lat_1=33.53 '\n",
    "    '+lat_2=32.47 +lon_0=-116.15 +no_defs +proj=lcc +units=us-ft '\n",
    "    '+x_0=2000000 +y_0=500000', preserve_units=True)\n",
    "\n",
    "wgs84 = Proj(init='epsg:4326')\n",
    "\n",
    "def transform_lat_lon(row):\n",
    " \n",
    "    try:\n",
    "        x, y = transform(wgs84, cap, row['Longitude'], row['Latitude'])\n",
    "        return x,y\n",
    "    except:\n",
    "        return np.nan \n",
    "\n",
    "def transform_lat_lon2(row):\n",
    "\n",
    "    try:\n",
    "        x, y = transform(wgs84, cap, row['lon'], row['lat'])\n",
    "        return x,y\n",
    "    except:\n",
    "        return np.nan \n",
    "    \n",
    "    \n",
    "# gett city geo    \n",
    "df_geo['x_feet'], df_geo['y_feet'] = zip(*df_geo.apply(transform_lat_lon, axis=1).tolist())\n",
    "\n",
    "df_airports['x_feet'], df_airports['y_feet'] = zip(*df_airports.apply(transform_lat_lon2, axis=1).tolist())\n"
   ]
  },
  {
   "cell_type": "code",
   "execution_count": 95,
   "metadata": {
    "collapsed": false,
    "scrolled": false
   },
   "outputs": [],
   "source": [
    "import math\n",
    "feet_to_mile = 5280.0\n",
    "radius = 25\n",
    "\n",
    "def check_location(row):\n",
    "    center_x, center_y = row['x_feet'], row['y_feet']\n",
    "    airport_close = False\n",
    "    \n",
    "    for index, airport in df_airports.iterrows():\n",
    "        x, y = airport['x_feet'], airport['y_feet'] \n",
    "        eucl_dist = math.sqrt((x - center_x) ** 2 + (y - center_y) ** 2) / feet_to_mile\n",
    "        if eucl_dist < radius:\n",
    "            airport_close = True\n",
    "            break\n",
    "    \n",
    "    return airport_close\n",
    "\n",
    "\n",
    "df_geo['near_airport'] = df_geo.apply(check_location, axis=1)    \n"
   ]
  },
  {
   "cell_type": "code",
   "execution_count": 96,
   "metadata": {
    "collapsed": false
   },
   "outputs": [
    {
     "data": {
      "text/plain": [
       "<matplotlib.collections.PathCollection at 0x112198550>"
      ]
     },
     "execution_count": 96,
     "metadata": {},
     "output_type": "execute_result"
    },
    {
     "data": {
      "image/png": "[encoded data removed]",
      "text/plain": [
       "<matplotlib.figure.Figure at 0x106b99358>"
      ]
     },
     "metadata": {},
     "output_type": "display_data"
    }
   ],
   "source": [
    "\n",
    "#df_geo = df_geo[df_geo['near_airport'] == True]\n",
    "plt.scatter(df_geo['Longitude'], df_geo['Latitude'], marker='o')\n"
   ]
  },
  {
   "cell_type": "code",
   "execution_count": 97,
   "metadata": {
    "collapsed": false
   },
   "outputs": [
    {
     "data": {
      "text/plain": [
       "(array([  23.,   91.,  102.,  100.,   81.,   63.,   36.,   30.,   19.,\n",
       "           7.,   13.,    9.,    2.,    2.,    3.,    2.,    6.,    1.,\n",
       "           4.,    1.,    2.,    3.,    0.,    1.,    0.,    0.,    1.,\n",
       "           0.,    2.,    1.,    0.,    1.,    1.,    0.,    0.,    1.,\n",
       "           0.,    1.,    0.,    1.,    0.,    0.,    0.,    0.,    1.,\n",
       "           0.,    0.,    0.,    0.,    1.]),\n",
       " array([   36200.,   108292.,   180384.,   252476.,   324568.,   396660.,\n",
       "          468752.,   540844.,   612936.,   685028.,   757120.,   829212.,\n",
       "          901304.,   973396.,  1045488.,  1117580.,  1189672.,  1261764.,\n",
       "         1333856.,  1405948.,  1478040.,  1550132.,  1622224.,  1694316.,\n",
       "         1766408.,  1838500.,  1910592.,  1982684.,  2054776.,  2126868.,\n",
       "         2198960.,  2271052.,  2343144.,  2415236.,  2487328.,  2559420.,\n",
       "         2631512.,  2703604.,  2775696.,  2847788.,  2919880.,  2991972.,\n",
       "         3064064.,  3136156.,  3208248.,  3280340.,  3352432.,  3424524.,\n",
       "         3496616.,  3568708.,  3640800.]),\n",
       " <a list of 50 Patch objects>)"
      ]
     },
     "execution_count": 97,
     "metadata": {},
     "output_type": "execute_result"
    },
    {
     "data": {
      "image/png": "[encoded data removed]",
      "text/plain": [
       "<matplotlib.figure.Figure at 0x112182978>"
      ]
     },
     "metadata": {},
     "output_type": "display_data"
    }
   ],
   "source": [
    "plt.hist(df_geo['2016-03_x'], bins=50)"
   ]
  },
  {
   "cell_type": "markdown",
   "metadata": {},
   "source": [
    "### Investment: \n",
    "looking for upward trending growth in the value of the homes"
   ]
  },
  {
   "cell_type": "code",
   "execution_count": 98,
   "metadata": {
    "collapsed": false
   },
   "outputs": [],
   "source": [
    "df_geo['growth'] = (df_geo['2016-03_x'] - df_geo['2011-03_x']) / df_geo['2011-03_x']\n",
    "\n",
    "max_growth, min_growth = max(df_geo['growth']), min(df_geo['growth'])\n",
    "difference = max_growth - min_growth\n",
    "\n",
    "df_geo['growth_index'] = 100*(df_geo['growth'] - min_growth) / difference"
   ]
  },
  {
   "cell_type": "markdown",
   "metadata": {},
   "source": [
    "### Revenue\n",
    "revenue from rentals compared against price"
   ]
  },
  {
   "cell_type": "code",
   "execution_count": 116,
   "metadata": {
    "collapsed": false
   },
   "outputs": [],
   "source": [
    "max_revenue, min_revenue = max(df_geo['2016-03_y']), min(df_geo['2016-03_y'])\n",
    "difference = max_revenue - min_revenue\n",
    "\n",
    "df_geo['revenue_index'] = 100*(df_geo['2016-03_y'] - min_revenue) / difference"
   ]
  },
  {
   "cell_type": "markdown",
   "metadata": {},
   "source": [
    "### Price\n",
    "The lower the price the higher the index."
   ]
  },
  {
   "cell_type": "code",
   "execution_count": 104,
   "metadata": {
    "collapsed": false
   },
   "outputs": [],
   "source": [
    "max_price, min_price = max(df_geo['2016-03_x']), min(df_geo['2016-03_x'])\n",
    "difference = max_price - min_price\n",
    "df_geo['price_index'] = 100*(max_price - df_geo['2016-03_x'] ) / difference"
   ]
  },
  {
   "cell_type": "markdown",
   "metadata": {},
   "source": [
    "## Favorable Local Environment\n"
   ]
  },
  {
   "cell_type": "code",
   "execution_count": 121,
   "metadata": {
    "collapsed": false
   },
   "outputs": [],
   "source": [
    "min_seasonal, max_seasonal = min(df_geo['seasonal use']), max(df_geo['seasonal use'])\n",
    "difference = max_seasonal - min_seasonal\n",
    "df_geo['env_index'] = 100*(df_geo['seasonal use'] - min_seasonal) / difference"
   ]
  },
  {
   "cell_type": "markdown",
   "metadata": {},
   "source": [
    "## Index\n",
    "Create the value"
   ]
  },
  {
   "cell_type": "code",
   "execution_count": 120,
   "metadata": {
    "collapsed": false
   },
   "outputs": [
    {
     "name": "stderr",
     "output_type": "stream",
     "text": [
      "/Library/Frameworks/Python.framework/Versions/3.5/lib/python3.5/site-packages/ipykernel/__main__.py:7: FutureWarning: sort(columns=....) is deprecated, use sort_values(by=.....)\n"
     ]
    },
    {
     "data": {
      "text/html": [
       "<div>\n",
       "<table border=\"1\" class=\"dataframe\">\n",
       "  <thead>\n",
       "    <tr style=\"text-align: right;\">\n",
       "      <th></th>\n",
       "      <th>RegionName_x</th>\n",
       "      <th>State_x</th>\n",
       "      <th>index</th>\n",
       "    </tr>\n",
       "  </thead>\n",
       "  <tbody>\n",
       "    <tr>\n",
       "      <th>327</th>\n",
       "      <td>Lehigh Acres</td>\n",
       "      <td>FL</td>\n",
       "      <td>73.280070</td>\n",
       "    </tr>\n",
       "    <tr>\n",
       "      <th>612</th>\n",
       "      <td>Loomis</td>\n",
       "      <td>CA</td>\n",
       "      <td>71.728737</td>\n",
       "    </tr>\n",
       "    <tr>\n",
       "      <th>1767</th>\n",
       "      <td>Golden Gate</td>\n",
       "      <td>FL</td>\n",
       "      <td>71.496447</td>\n",
       "    </tr>\n",
       "    <tr>\n",
       "      <th>1964</th>\n",
       "      <td>Lahaina</td>\n",
       "      <td>HI</td>\n",
       "      <td>71.225661</td>\n",
       "    </tr>\n",
       "    <tr>\n",
       "      <th>176</th>\n",
       "      <td>Rubidoux</td>\n",
       "      <td>CA</td>\n",
       "      <td>70.350481</td>\n",
       "    </tr>\n",
       "    <tr>\n",
       "      <th>186</th>\n",
       "      <td>Glen Avon</td>\n",
       "      <td>CA</td>\n",
       "      <td>69.728618</td>\n",
       "    </tr>\n",
       "    <tr>\n",
       "      <th>138</th>\n",
       "      <td>El Portal</td>\n",
       "      <td>FL</td>\n",
       "      <td>69.499968</td>\n",
       "    </tr>\n",
       "    <tr>\n",
       "      <th>748</th>\n",
       "      <td>Boulder Creek</td>\n",
       "      <td>CA</td>\n",
       "      <td>68.898105</td>\n",
       "    </tr>\n",
       "    <tr>\n",
       "      <th>1771</th>\n",
       "      <td>Orangetree</td>\n",
       "      <td>FL</td>\n",
       "      <td>68.894262</td>\n",
       "    </tr>\n",
       "    <tr>\n",
       "      <th>13</th>\n",
       "      <td>El Mirage</td>\n",
       "      <td>AZ</td>\n",
       "      <td>68.856899</td>\n",
       "    </tr>\n",
       "  </tbody>\n",
       "</table>\n",
       "</div>"
      ],
      "text/plain": [
       "       RegionName_x State_x      index\n",
       "327    Lehigh Acres      FL  73.280070\n",
       "612          Loomis      CA  71.728737\n",
       "1767    Golden Gate      FL  71.496447\n",
       "1964        Lahaina      HI  71.225661\n",
       "176        Rubidoux      CA  70.350481\n",
       "186       Glen Avon      CA  69.728618\n",
       "138       El Portal      FL  69.499968\n",
       "748   Boulder Creek      CA  68.898105\n",
       "1771     Orangetree      FL  68.894262\n",
       "13        El Mirage      AZ  68.856899"
      ]
     },
     "execution_count": 120,
     "metadata": {},
     "output_type": "execute_result"
    }
   ],
   "source": [
    "df_geo['index'] = (.30 * df_geo['growth_index']) + (.30 * df_geo['revenue_index']) + (.30 * df_geo['price_index']) + (.10 * df_geo['env_index'])\n",
    "\n",
    "cols_2_use = [  'AccentCity',\n",
    "                'State_x',\n",
    "                'index']\n",
    "\n",
    "df_out = df_geo.sort('index', ascending=False)\n",
    "\n",
    "df_out[['RegionName_x', 'State_x', 'index']].head(10)"
   ]
  },
  {
   "cell_type": "code",
   "execution_count": null,
   "metadata": {
    "collapsed": true
   },
   "outputs": [],
   "source": []
  }
 ],
 "metadata": {
  "kernelspec": {
   "display_name": "Python 3",
   "language": "python",
   "name": "python3"
  },
  "language_info": {
   "codemirror_mode": {
    "name": "ipython",
    "version": 3
   },
   "file_extension": ".py",
   "mimetype": "text/x-python",
   "name": "python",
   "nbconvert_exporter": "python",
   "pygments_lexer": "ipython3",
   "version": "3.5.0"
  }
 },
 "nbformat": 4,
 "nbformat_minor": 0
}
