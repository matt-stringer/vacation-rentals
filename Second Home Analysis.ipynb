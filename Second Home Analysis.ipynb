{
 "cells": [
  {
   "cell_type": "markdown",
   "metadata": {},
   "source": [
    "This is the second home analysis."
   ]
  },
  {
   "cell_type": "code",
   "execution_count": 111,
   "metadata": {
    "collapsed": false
   },
   "outputs": [],
   "source": [
    "%matplotlib inline\n",
    "\n",
    "import matplotlib.pyplot as plt\n",
    "import numpy as np # linear algebra\n",
    "import pandas as pd # data processing, CSV file I/O (e.g. pd.read_csv)\n",
    "\n",
    "from matplotlib.patches import Circle, Rectangle, Arc\n",
    "from geopy.geocoders import Nominatim\n",
    "from descartes import PolygonPatch\n",
    "#import seaborn as sns\n",
    "from pyproj import Proj, transform\n",
    "import json\n",
    "from shapely.geometry import mapping, shape\n",
    "\n"
   ]
  },
  {
   "cell_type": "code",
   "execution_count": 204,
   "metadata": {
    "collapsed": false
   },
   "outputs": [],
   "source": [
    "\n",
    "def plot_polygon(ax, coordlist, edgecolor, color='black', alpha=1.0):\n",
    "\n",
    "    \n",
    "    # without Descartes, we could make a Patch of exterior\n",
    "    \n",
    "    poly = {\"type\": \"Polygon\", \"coordinates\": coordlist}\n",
    "#     ax.add_patch(PolygonPatch(poly, facecolor=color, edgecolor=edgecolor, linewidth=0.0, alpha=alpha))\n",
    "    ax.plot(coordlist[:, 0], coordlist[:, 1], color='black')\n",
    "\n",
    "def plot_multipolygon(ax, geom, color='red'):\n",
    "    \"\"\" Can safely call with either Polygon or Multipolygon geometry\n",
    "    change from original\n",
    "    \"\"\"\n",
    "    if geom['type'] == 'Polygon':\n",
    "        a = np.asarray(geom['coordinates'])\n",
    "        plot_polygon(ax, a, color)\n",
    "    elif geom['type'] == 'MultiPolygon':\n",
    "         for g in geom['coordinates']:\n",
    "            a = np.asarray(g)\n",
    "            plot_polygon(ax, a, color)\n",
    "\n",
    "#             plot_polygon(ax, poly, color)\n"
   ]
  },
  {
   "cell_type": "code",
   "execution_count": 142,
   "metadata": {
    "collapsed": false
   },
   "outputs": [],
   "source": [
    "df = pd.read_csv('data/City_Zhvi_AllHomes.csv')\n",
    "\n",
    "# cols_2_use = [  'RegionID',\n",
    "#                  'RegionName',\n",
    "#                  'State',\n",
    "#                  'Metro',\n",
    "#                  'CountyName',\n",
    "#                  'SizeRank',\n",
    "#                  '1996-04',\n",
    "#                  '2001-03',\n",
    "#                  '2006-03',\n",
    "#                  '2011-03',\n",
    "#                  '2016-03']\n",
    "\n",
    "# df = df[cols_2_use]\n",
    "\n"
   ]
  },
  {
   "cell_type": "code",
   "execution_count": 47,
   "metadata": {
    "collapsed": false
   },
   "outputs": [],
   "source": [
    "df_price_2_rent = pd.read_csv('data/City_PriceToRentRatio_AllHomes.csv')\n",
    "\n",
    "# cols_2_use = [  'RegionID',\n",
    "#                 'RegionName',\n",
    "#                 'State',\n",
    "#                 '2011-03',\n",
    "#                 '2016-03']\n",
    "\n",
    "# df_price_2_rent = df_price_2_rent[cols_2_use]\n"
   ]
  },
  {
   "cell_type": "code",
   "execution_count": 48,
   "metadata": {
    "collapsed": false
   },
   "outputs": [
    {
     "data": {
      "text/plain": [
       "11383"
      ]
     },
     "execution_count": 48,
     "metadata": {},
     "output_type": "execute_result"
    }
   ],
   "source": [
    "df['CountyState'] = df['CountyName'] + \" County, \" + df['State']\n",
    "\n",
    "df_price_2_rent['CityState'] = df_price_2_rent['RegionName'] + ', ' + df_price_2_rent['State']\n",
    "\n",
    "df['CityState'] = df['RegionName'] + ', ' + df['State']\n",
    "new_df = pd.merge(df, df_price_2_rent, on='CityState', how='inner')\n",
    "len(new_df)"
   ]
  },
  {
   "cell_type": "markdown",
   "metadata": {},
   "source": [
    "### Existing climate for vacation rentals:\n",
    "Area with vacation rentals? Analyze only cities that are in a county where more than 20% of the households are for recreational use."
   ]
  },
  {
   "cell_type": "code",
   "execution_count": 49,
   "metadata": {
    "collapsed": false
   },
   "outputs": [],
   "source": [
    "xl = pd.ExcelFile('data/seasonal_rates.csv')\n",
    "df_seasonal = xl.parse('seasonal_rates.csv')\n",
    "df_seasonal = df_seasonal[df_seasonal['seasonal use'] > 20.0]\n",
    "\n",
    "df_seasonal['CountyState'] = df_seasonal['Geographic area'] + ', ' + df_seasonal['State Abbr']\n",
    "new_df = pd.merge(new_df, df_seasonal, on='CountyState', how='inner')\n",
    "\n",
    "\n",
    "seasonal_df = new_df"
   ]
  },
  {
   "cell_type": "code",
   "execution_count": 50,
   "metadata": {
    "collapsed": false
   },
   "outputs": [],
   "source": [
    "# add geo location\n",
    "df_geo = pd.read_csv('data/us_cities.csv')\n",
    "\n",
    "# combine the city and state for merging\n",
    "df_geo['CityState'] = df_geo['AccentCity'] + ', ' + df_geo['Region']\n",
    "df_geo = pd.merge(seasonal_df, df_geo, on='CityState', how='inner')"
   ]
  },
  {
   "cell_type": "markdown",
   "metadata": {},
   "source": [
    "#### Plot where the current locations are."
   ]
  },
  {
   "cell_type": "code",
   "execution_count": 206,
   "metadata": {
    "collapsed": false
   },
   "outputs": [
    {
     "data": {
      "image/png": "[encoded data removed]",
      "text/plain": [
       "<matplotlib.figure.Figure at 0x111f47630>"
      ]
     },
     "metadata": {},
     "output_type": "display_data"
    }
   ],
   "source": [
    "fig = plt.figure(figsize=(10,5))\n",
    "ax = plt.gca()\n",
    "ax.scatter(df_geo['Longitude'], df_geo['Latitude'], marker='o')\n",
    "\n",
    "\n",
    "\n",
    "with open('data/us_map.json') as data_file:    \n",
    "     data = json.load(data_file)\n",
    "\n",
    "for feature in data['features']:\n",
    "    plot_multipolygon(ax, feature['geometry'], color='b')\n",
    "    \n",
    "\n"
   ]
  },
  {
   "cell_type": "markdown",
   "metadata": {},
   "source": [
    "### Accessibility: \n",
    "Is it near a major airport? Find cities that are within at least 20 miles of major commercial airport."
   ]
  },
  {
   "cell_type": "code",
   "execution_count": 19,
   "metadata": {
    "collapsed": false
   },
   "outputs": [],
   "source": [
    "# Load Airport Data\n",
    "df_airports = pd.read_csv('data/us_airports.csv')\n",
    "\n",
    "# remove non major airports\n",
    "major_airports_codes = [\"GA\",\"LAX\",\"ORD\",\"DFW\",\"JFK\",\"DEN\",\"SFO\",\"CLT\",\"LAS\",\"PHX\",\"IAH\",\"MIA\",\"SEA\",\"EWR\",\"MCO\",\"MSP\",\"DTW\",\"BOS\",\"PHL\",\"LGA\",\"FLL\",\"BWI\",\"IAD\",\"MDW\",\"SLC\",\"DCA\",\"HNL\",\"SAN\",\"TPA\",\"PDX\",\"STL\",\"HOU\",\"BNA\",\"AUS\",\"OAK\",\"MCI\",\"MSY\",\"RDU\",\"SJC\",\"SNA\",\"DAL\",\"SMF\",\"SJU\",\"SAT\",\"RSW\",\"PIT\",\"CLE\",\"IND\",\"MKE\",\"CMH\",\"OGG\",\"PBI\",\"BDL\",\"CVG\",\"JAX\",\"ANC\",\"BUF\",\"ABQ\",\"ONT\",\"OMA\",\"BUR\"]\n",
    "\n",
    "df_airports = df_airports[df_airports['code'].isin(major_airports_codes)]"
   ]
  },
  {
   "cell_type": "code",
   "execution_count": 20,
   "metadata": {
    "collapsed": false
   },
   "outputs": [],
   "source": [
    "#converted units\n",
    "cap = Proj('+datum=NAD83 +lat_0=32.10 +lat_1=33.53 '\n",
    "    '+lat_2=32.47 +lon_0=-116.15 +no_defs +proj=lcc +units=us-ft '\n",
    "    '+x_0=2000000 +y_0=500000', preserve_units=True)\n",
    "\n",
    "wgs84 = Proj(init='epsg:4326')\n",
    "\n",
    "def transform_lat_lon(row):\n",
    " \n",
    "    try:\n",
    "        x, y = transform(wgs84, cap, row['Longitude'], row['Latitude'])\n",
    "        return x,y\n",
    "    except:\n",
    "        return np.nan \n",
    "\n",
    "def transform_lat_lon2(row):\n",
    "\n",
    "    try:\n",
    "        x, y = transform(wgs84, cap, row['lon'], row['lat'])\n",
    "        return x,y\n",
    "    except:\n",
    "        return np.nan \n",
    "    \n",
    "    \n",
    "# gett city geo    \n",
    "df_geo['x_feet'], df_geo['y_feet'] = zip(*df_geo.apply(transform_lat_lon, axis=1).tolist())\n",
    "\n",
    "df_airports['x_feet'], df_airports['y_feet'] = zip(*df_airports.apply(transform_lat_lon2, axis=1).tolist())\n"
   ]
  },
  {
   "cell_type": "code",
   "execution_count": 21,
   "metadata": {
    "collapsed": false,
    "scrolled": false
   },
   "outputs": [],
   "source": [
    "import math\n",
    "feet_to_mile = 5280.0\n",
    "radius = 25\n",
    "\n",
    "def check_location(row):\n",
    "    center_x, center_y = row['x_feet'], row['y_feet']\n",
    "    airport_close = False\n",
    "    \n",
    "    for index, airport in df_airports.iterrows():\n",
    "        x, y = airport['x_feet'], airport['y_feet'] \n",
    "        eucl_dist = math.sqrt((x - center_x) ** 2 + (y - center_y) ** 2) / feet_to_mile\n",
    "        if eucl_dist < radius:\n",
    "            airport_close = True\n",
    "            break\n",
    "    \n",
    "    return airport_close\n",
    "\n",
    "\n",
    "df_geo['near_airport'] = df_geo.apply(check_location, axis=1)    \n"
   ]
  },
  {
   "cell_type": "code",
   "execution_count": 22,
   "metadata": {
    "collapsed": false
   },
   "outputs": [
    {
     "data": {
      "text/plain": [
       "(array([  5.52000000e+02,   1.52800000e+03,   6.50000000e+02,\n",
       "          3.74000000e+02,   2.22000000e+02,   1.35000000e+02,\n",
       "          9.60000000e+01,   6.60000000e+01,   4.10000000e+01,\n",
       "          3.00000000e+01,   3.00000000e+01,   1.20000000e+01,\n",
       "          1.00000000e+01,   7.00000000e+00,   5.00000000e+00,\n",
       "          8.00000000e+00,   3.00000000e+00,   5.00000000e+00,\n",
       "          5.00000000e+00,   1.00000000e+00,   8.00000000e+00,\n",
       "          1.00000000e+00,   2.00000000e+00,   0.00000000e+00,\n",
       "          1.00000000e+00,   1.00000000e+00,   0.00000000e+00,\n",
       "          3.00000000e+00,   1.00000000e+00,   0.00000000e+00,\n",
       "          1.00000000e+00,   1.00000000e+00,   0.00000000e+00,\n",
       "          0.00000000e+00,   1.00000000e+00,   0.00000000e+00,\n",
       "          1.00000000e+00,   1.00000000e+00,   0.00000000e+00,\n",
       "          0.00000000e+00,   0.00000000e+00,   1.00000000e+00,\n",
       "          1.00000000e+00,   0.00000000e+00,   0.00000000e+00,\n",
       "          0.00000000e+00,   0.00000000e+00,   0.00000000e+00,\n",
       "          1.00000000e+00,   1.00000000e+00]),\n",
       " array([   33800.,   108806.,   183812.,   258818.,   333824.,   408830.,\n",
       "          483836.,   558842.,   633848.,   708854.,   783860.,   858866.,\n",
       "          933872.,  1008878.,  1083884.,  1158890.,  1233896.,  1308902.,\n",
       "         1383908.,  1458914.,  1533920.,  1608926.,  1683932.,  1758938.,\n",
       "         1833944.,  1908950.,  1983956.,  2058962.,  2133968.,  2208974.,\n",
       "         2283980.,  2358986.,  2433992.,  2508998.,  2584004.,  2659010.,\n",
       "         2734016.,  2809022.,  2884028.,  2959034.,  3034040.,  3109046.,\n",
       "         3184052.,  3259058.,  3334064.,  3409070.,  3484076.,  3559082.,\n",
       "         3634088.,  3709094.,  3784100.]),\n",
       " <a list of 50 Patch objects>)"
      ]
     },
     "execution_count": 22,
     "metadata": {},
     "output_type": "execute_result"
    },
    {
     "data": {
      "image/png": "[encoded data removed]",
      "text/plain": [
       "<matplotlib.figure.Figure at 0x1134717b8>"
      ]
     },
     "metadata": {},
     "output_type": "display_data"
    }
   ],
   "source": [
    "plt.hist(df_geo['2016-03_x'], bins=50)"
   ]
  },
  {
   "cell_type": "code",
   "execution_count": 31,
   "metadata": {
    "collapsed": false
   },
   "outputs": [
    {
     "data": {
      "text/plain": [
       "<matplotlib.collections.PathCollection at 0x110c5ff28>"
      ]
     },
     "execution_count": 31,
     "metadata": {},
     "output_type": "execute_result"
    },
    {
     "data": {
      "image/png": "[encoded data removed]",
      "text/plain": [
       "<matplotlib.figure.Figure at 0x113148550>"
      ]
     },
     "metadata": {},
     "output_type": "display_data"
    }
   ],
   "source": [
    "\n",
    "df_geo = df_geo[df_geo['near_airport'] == True]\n",
    "plt.scatter(df_geo['Longitude'], df_geo['Latitude'], marker='o')\n"
   ]
  },
  {
   "cell_type": "markdown",
   "metadata": {},
   "source": [
    "### Investment: \n",
    "looking for upward trending growth in the value of the homes"
   ]
  },
  {
   "cell_type": "code",
   "execution_count": 32,
   "metadata": {
    "collapsed": false
   },
   "outputs": [],
   "source": [
    "df_geo['growth'] = (df_geo['2016-03_x'] - df_geo['2011-03_x']) / df_geo['2011-03_x']\n",
    "\n",
    "max_growth, min_growth = max(df_geo['growth']), min(df_geo['growth'])\n",
    "difference = max_growth - min_growth\n",
    "\n",
    "df_geo['growth_index'] = 100*(df_geo['growth'] - min_growth) / difference"
   ]
  },
  {
   "cell_type": "markdown",
   "metadata": {},
   "source": [
    "### Revenue\n",
    "revenue from rentals compared against price"
   ]
  },
  {
   "cell_type": "code",
   "execution_count": 33,
   "metadata": {
    "collapsed": false
   },
   "outputs": [],
   "source": [
    "max_revenue, min_revenue = max(df_geo['2016-03_y']), min(df_geo['2016-03_y'])\n",
    "difference = max_revenue - min_revenue\n",
    "\n",
    "df_geo['revenue_index'] = 100*(df_geo['2016-03_y'] - min_revenue) / difference"
   ]
  },
  {
   "cell_type": "markdown",
   "metadata": {},
   "source": [
    "### Price\n",
    "The lower the price the higher the index."
   ]
  },
  {
   "cell_type": "code",
   "execution_count": 34,
   "metadata": {
    "collapsed": false
   },
   "outputs": [],
   "source": [
    "max_price, min_price = max(df_geo['2016-03_x']), min(df_geo['2016-03_x'])\n",
    "difference = max_price - min_price\n",
    "df_geo['price_index'] = 100*(max_price - df_geo['2016-03_x'] ) / difference"
   ]
  },
  {
   "cell_type": "markdown",
   "metadata": {},
   "source": [
    "## Renters\n"
   ]
  },
  {
   "cell_type": "code",
   "execution_count": 35,
   "metadata": {
    "collapsed": false
   },
   "outputs": [],
   "source": [
    "min_seasonal, max_seasonal = min(df_geo['seasonal use']), max(df_geo['seasonal use'])\n",
    "difference = max_seasonal - min_seasonal\n",
    "df_geo['env_index'] = 100*(df_geo['seasonal use'] - min_seasonal) / difference"
   ]
  },
  {
   "cell_type": "markdown",
   "metadata": {},
   "source": [
    "## Index\n",
    "Create the value"
   ]
  },
  {
   "cell_type": "code",
   "execution_count": 37,
   "metadata": {
    "collapsed": false
   },
   "outputs": [
    {
     "name": "stderr",
     "output_type": "stream",
     "text": [
      "/Library/Frameworks/Python.framework/Versions/3.5/lib/python3.5/site-packages/ipykernel/__main__.py:7: FutureWarning: sort(columns=....) is deprecated, use sort_values(by=.....)\n"
     ]
    },
    {
     "data": {
      "text/html": [
       "<div>\n",
       "<table border=\"1\" class=\"dataframe\">\n",
       "  <thead>\n",
       "    <tr style=\"text-align: right;\">\n",
       "      <th></th>\n",
       "      <th>RegionName_x</th>\n",
       "      <th>State_x</th>\n",
       "      <th>State_x</th>\n",
       "      <th>State_x</th>\n",
       "      <th>index</th>\n",
       "    </tr>\n",
       "  </thead>\n",
       "  <tbody>\n",
       "    <tr>\n",
       "      <th>327</th>\n",
       "      <td>Lehigh Acres</td>\n",
       "      <td>FL</td>\n",
       "      <td>Florida</td>\n",
       "      <td>Florida</td>\n",
       "      <td>73.280070</td>\n",
       "    </tr>\n",
       "    <tr>\n",
       "      <th>612</th>\n",
       "      <td>Loomis</td>\n",
       "      <td>CA</td>\n",
       "      <td>California</td>\n",
       "      <td>California</td>\n",
       "      <td>71.728737</td>\n",
       "    </tr>\n",
       "    <tr>\n",
       "      <th>1767</th>\n",
       "      <td>Golden Gate</td>\n",
       "      <td>FL</td>\n",
       "      <td>Florida</td>\n",
       "      <td>Florida</td>\n",
       "      <td>71.496447</td>\n",
       "    </tr>\n",
       "    <tr>\n",
       "      <th>1964</th>\n",
       "      <td>Lahaina</td>\n",
       "      <td>HI</td>\n",
       "      <td>Hawaii</td>\n",
       "      <td>Hawaii</td>\n",
       "      <td>71.225661</td>\n",
       "    </tr>\n",
       "    <tr>\n",
       "      <th>176</th>\n",
       "      <td>Rubidoux</td>\n",
       "      <td>CA</td>\n",
       "      <td>California</td>\n",
       "      <td>California</td>\n",
       "      <td>70.350481</td>\n",
       "    </tr>\n",
       "    <tr>\n",
       "      <th>186</th>\n",
       "      <td>Glen Avon</td>\n",
       "      <td>CA</td>\n",
       "      <td>California</td>\n",
       "      <td>California</td>\n",
       "      <td>69.728618</td>\n",
       "    </tr>\n",
       "    <tr>\n",
       "      <th>138</th>\n",
       "      <td>El Portal</td>\n",
       "      <td>FL</td>\n",
       "      <td>Florida</td>\n",
       "      <td>Florida</td>\n",
       "      <td>69.499968</td>\n",
       "    </tr>\n",
       "    <tr>\n",
       "      <th>748</th>\n",
       "      <td>Boulder Creek</td>\n",
       "      <td>CA</td>\n",
       "      <td>California</td>\n",
       "      <td>California</td>\n",
       "      <td>68.898105</td>\n",
       "    </tr>\n",
       "    <tr>\n",
       "      <th>1771</th>\n",
       "      <td>Orangetree</td>\n",
       "      <td>FL</td>\n",
       "      <td>Florida</td>\n",
       "      <td>Florida</td>\n",
       "      <td>68.894262</td>\n",
       "    </tr>\n",
       "    <tr>\n",
       "      <th>13</th>\n",
       "      <td>El Mirage</td>\n",
       "      <td>AZ</td>\n",
       "      <td>Arizona</td>\n",
       "      <td>Arizona</td>\n",
       "      <td>68.856899</td>\n",
       "    </tr>\n",
       "  </tbody>\n",
       "</table>\n",
       "</div>"
      ],
      "text/plain": [
       "       RegionName_x State_x     State_x     State_x      index\n",
       "327    Lehigh Acres      FL     Florida     Florida  73.280070\n",
       "612          Loomis      CA  California  California  71.728737\n",
       "1767    Golden Gate      FL     Florida     Florida  71.496447\n",
       "1964        Lahaina      HI      Hawaii      Hawaii  71.225661\n",
       "176        Rubidoux      CA  California  California  70.350481\n",
       "186       Glen Avon      CA  California  California  69.728618\n",
       "138       El Portal      FL     Florida     Florida  69.499968\n",
       "748   Boulder Creek      CA  California  California  68.898105\n",
       "1771     Orangetree      FL     Florida     Florida  68.894262\n",
       "13        El Mirage      AZ     Arizona     Arizona  68.856899"
      ]
     },
     "execution_count": 37,
     "metadata": {},
     "output_type": "execute_result"
    }
   ],
   "source": [
    "df_geo['index'] = (.30 * df_geo['growth_index']) + (.30 * df_geo['revenue_index']) + (.30 * df_geo['price_index']) + (.10 * df_geo['env_index'])\n",
    "\n",
    "cols_2_use = [  'AccentCity',\n",
    "                'State_x',\n",
    "                'index']\n",
    "\n",
    "df_out = df_geo.sort('index', ascending=False)\n",
    "\n",
    "df_out[['RegionName_x', 'State_x', 'index']].head(10)"
   ]
  },
  {
   "cell_type": "markdown",
   "metadata": {
    "collapsed": true
   },
   "source": [
    "Where are the locations of these?\n"
   ]
  }
 ],
 "metadata": {
  "kernelspec": {
   "display_name": "Python 3",
   "language": "python",
   "name": "python3"
  },
  "language_info": {
   "codemirror_mode": {
    "name": "ipython",
    "version": 3
   },
   "file_extension": ".py",
   "mimetype": "text/x-python",
   "name": "python",
   "nbconvert_exporter": "python",
   "pygments_lexer": "ipython3",
   "version": "3.5.0"
  }
 },
 "nbformat": 4,
 "nbformat_minor": 0
}
